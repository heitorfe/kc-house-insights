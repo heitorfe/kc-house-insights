{
 "cells": [
  {
   "cell_type": "markdown",
   "id": "8618b0f0",
   "metadata": {},
   "source": [
    "## 0.0. Imports"
   ]
  },
  {
   "cell_type": "code",
   "execution_count": 4,
   "id": "1397012c",
   "metadata": {
    "ExecuteTime": {
     "end_time": "2022-04-18T13:24:52.640313Z",
     "start_time": "2022-04-18T13:24:52.405101Z"
    }
   },
   "outputs": [],
   "source": [
    "import pandas as pd\n",
    "from datetime import datetime\n",
    "import numpy as np\n",
    "import seaborn as sns\n",
    "from IPython.display import Image\n",
    "from IPython.core.display import HTML\n",
    "from geopy.geocoders import Nominatim\n",
    "import geopandas\n"
   ]
  },
  {
   "cell_type": "markdown",
   "id": "81985011",
   "metadata": {},
   "source": [
    "### 0.2. Helper Functions"
   ]
  },
  {
   "cell_type": "code",
   "execution_count": 5,
   "id": "fde96761",
   "metadata": {
    "ExecuteTime": {
     "end_time": "2022-04-18T13:24:57.942337Z",
     "start_time": "2022-04-18T13:24:57.824129Z"
    }
   },
   "outputs": [
    {
     "name": "stdout",
     "output_type": "stream",
     "text": [
      "%pylab is deprecated, use %matplotlib inline and import the required libraries.\n",
      "Populating the interactive namespace from numpy and matplotlib\n"
     ]
    },
    {
     "name": "stderr",
     "output_type": "stream",
     "text": [
      "/home/heitor/.local/lib/python3.8/site-packages/IPython/core/magics/pylab.py:162: UserWarning: pylab import has clobbered these variables: ['datetime']\n",
      "`%matplotlib` prevents importing * from pylab and numpy\n",
      "  warn(\"pylab import has clobbered these variables: %s\"  % clobbered +\n"
     ]
    },
    {
     "data": {
      "text/html": [
       "<style>.container { width:100% !important; }</style>"
      ],
      "text/plain": [
       "<IPython.core.display.HTML object>"
      ]
     },
     "metadata": {},
     "output_type": "display_data"
    }
   ],
   "source": [
    "def jupyter_settings():\n",
    "    %matplotlib inline\n",
    "    %pylab inline\n",
    "    plt.style.use( 'bmh' )\n",
    "    plt.rcParams['figure.figsize'] = [25, 18]\n",
    "    plt.rcParams['font.size'] = 24\n",
    "    display( HTML( '<style>.container { width:100% !important; }</style>') )\n",
    "    pd.options.display.max_columns = None\n",
    "    pd.options.display.max_rows = None\n",
    "    pd.set_option( 'display.expand_frame_repr', False )\n",
    "    sns.set()\n",
    "\n",
    "pd.set_option('display.float_format', lambda x: '%.2f' % x)\n",
    "jupyter_settings()\n"
   ]
  },
  {
   "cell_type": "markdown",
   "id": "e5c9f9fb",
   "metadata": {},
   "source": [
    "### 0.3. Loading Data"
   ]
  },
  {
   "cell_type": "code",
   "execution_count": 6,
   "id": "09654dac",
   "metadata": {
    "ExecuteTime": {
     "end_time": "2022-04-18T13:24:59.177463Z",
     "start_time": "2022-04-18T13:24:58.123521Z"
    }
   },
   "outputs": [],
   "source": [
    "data = pd.read_csv('kc_house_data2.csv')"
   ]
  },
  {
   "cell_type": "markdown",
   "id": "9e68305a",
   "metadata": {},
   "source": [
    "## 1.0. Data Description"
   ]
  },
  {
   "cell_type": "code",
   "execution_count": 7,
   "id": "721f45c0",
   "metadata": {
    "ExecuteTime": {
     "end_time": "2022-04-18T13:24:59.506520Z",
     "start_time": "2022-04-18T13:24:59.387276Z"
    }
   },
   "outputs": [
    {
     "data": {
      "text/plain": [
       "Unnamed: 0         int64\n",
       "id                 int64\n",
       "date              object\n",
       "price            float64\n",
       "bedrooms           int64\n",
       "bathrooms        float64\n",
       "sqft_living        int64\n",
       "sqft_lot           int64\n",
       "floors           float64\n",
       "waterfront         int64\n",
       "view               int64\n",
       "condition          int64\n",
       "grade              int64\n",
       "sqft_above         int64\n",
       "sqft_basement      int64\n",
       "yr_built           int64\n",
       "yr_renovated       int64\n",
       "zipcode            int64\n",
       "lat              float64\n",
       "long             float64\n",
       "sqft_living15      int64\n",
       "sqft_lot15         int64\n",
       "year               int64\n",
       "month              int64\n",
       "day                int64\n",
       "year_week         object\n",
       "week               int64\n",
       "season            object\n",
       "city              object\n",
       "state             object\n",
       "dtype: object"
      ]
     },
     "execution_count": 7,
     "metadata": {},
     "output_type": "execute_result"
    }
   ],
   "source": [
    "data.dtypes\n"
   ]
  },
  {
   "cell_type": "code",
   "execution_count": 8,
   "id": "35e7bcf7",
   "metadata": {
    "ExecuteTime": {
     "end_time": "2022-04-18T13:24:59.750822Z",
     "start_time": "2022-04-18T13:24:59.741202Z"
    }
   },
   "outputs": [
    {
     "data": {
      "text/plain": [
       "(21613, 30)"
      ]
     },
     "execution_count": 8,
     "metadata": {},
     "output_type": "execute_result"
    }
   ],
   "source": [
    "data.shape"
   ]
  },
  {
   "cell_type": "code",
   "execution_count": 9,
   "id": "2a661d0e",
   "metadata": {
    "ExecuteTime": {
     "end_time": "2022-04-18T13:25:00.988273Z",
     "start_time": "2022-04-18T13:25:00.760268Z"
    }
   },
   "outputs": [],
   "source": [
    "num_attributes = data.select_dtypes(['int64', 'float64'])\n",
    "\n",
    "\n",
    "#central tendency\n",
    "mean = pd.DataFrame(num_attributes.apply(np.mean)).T\n",
    "median = pd.DataFrame(num_attributes.apply(np.median)).T\n",
    "\n",
    "#dispersion\n",
    "min_ = pd.DataFrame(num_attributes.apply(min)).T\n",
    "max_ = pd.DataFrame(num_attributes.apply(max)).T\n",
    "range_ = pd.DataFrame(num_attributes.apply(lambda x: x.max() - x.min())).T\n",
    "std = pd.DataFrame(num_attributes.apply(np.std)).T\n",
    "skew = pd.DataFrame(num_attributes.apply(lambda x: x.skew())).T\n",
    "kurtosis = pd.DataFrame(num_attributes.apply(lambda x: x.kurtosis())).T\n"
   ]
  },
  {
   "cell_type": "code",
   "execution_count": 10,
   "id": "f1c78e02",
   "metadata": {
    "ExecuteTime": {
     "end_time": "2022-04-18T13:25:01.308340Z",
     "start_time": "2022-04-18T13:25:01.294218Z"
    }
   },
   "outputs": [],
   "source": [
    "#concatenate \n",
    "\n",
    "m = pd.concat([min_, max_, range_, mean, median,std,skew,kurtosis]).T.reset_index()\n",
    "m.columns = ['attributes', 'min', 'max', 'range', 'mean', 'median','std','skew','kurtosis']\n",
    "\n",
    "#dropping unecessary rows\n",
    "rows = [0,13,14,15,16,17]\n",
    "m = m.drop(rows, axis=0)\n"
   ]
  },
  {
   "cell_type": "code",
   "execution_count": 11,
   "id": "8eedab7c",
   "metadata": {
    "ExecuteTime": {
     "end_time": "2022-04-18T13:25:01.801992Z",
     "start_time": "2022-04-18T13:25:01.720985Z"
    }
   },
   "outputs": [
    {
     "data": {
      "text/html": [
       "<div>\n",
       "<style scoped>\n",
       "    .dataframe tbody tr th:only-of-type {\n",
       "        vertical-align: middle;\n",
       "    }\n",
       "\n",
       "    .dataframe tbody tr th {\n",
       "        vertical-align: top;\n",
       "    }\n",
       "\n",
       "    .dataframe thead th {\n",
       "        text-align: right;\n",
       "    }\n",
       "</style>\n",
       "<table border=\"1\" class=\"dataframe\">\n",
       "  <thead>\n",
       "    <tr style=\"text-align: right;\">\n",
       "      <th></th>\n",
       "      <th>attributes</th>\n",
       "      <th>min</th>\n",
       "      <th>max</th>\n",
       "      <th>range</th>\n",
       "      <th>mean</th>\n",
       "      <th>median</th>\n",
       "      <th>std</th>\n",
       "      <th>skew</th>\n",
       "      <th>kurtosis</th>\n",
       "    </tr>\n",
       "  </thead>\n",
       "  <tbody>\n",
       "    <tr>\n",
       "      <th>1</th>\n",
       "      <td>id</td>\n",
       "      <td>1000102.00</td>\n",
       "      <td>9900000190.00</td>\n",
       "      <td>9899000088.00</td>\n",
       "      <td>4580301520.86</td>\n",
       "      <td>3904930410.00</td>\n",
       "      <td>2876499023.43</td>\n",
       "      <td>0.24</td>\n",
       "      <td>-1.26</td>\n",
       "    </tr>\n",
       "    <tr>\n",
       "      <th>2</th>\n",
       "      <td>price</td>\n",
       "      <td>75000.00</td>\n",
       "      <td>7700000.00</td>\n",
       "      <td>7625000.00</td>\n",
       "      <td>540088.14</td>\n",
       "      <td>450000.00</td>\n",
       "      <td>367118.70</td>\n",
       "      <td>4.02</td>\n",
       "      <td>34.59</td>\n",
       "    </tr>\n",
       "    <tr>\n",
       "      <th>3</th>\n",
       "      <td>bedrooms</td>\n",
       "      <td>0.00</td>\n",
       "      <td>33.00</td>\n",
       "      <td>33.00</td>\n",
       "      <td>3.37</td>\n",
       "      <td>3.00</td>\n",
       "      <td>0.93</td>\n",
       "      <td>1.97</td>\n",
       "      <td>49.06</td>\n",
       "    </tr>\n",
       "    <tr>\n",
       "      <th>4</th>\n",
       "      <td>bathrooms</td>\n",
       "      <td>0.00</td>\n",
       "      <td>8.00</td>\n",
       "      <td>8.00</td>\n",
       "      <td>2.11</td>\n",
       "      <td>2.25</td>\n",
       "      <td>0.77</td>\n",
       "      <td>0.51</td>\n",
       "      <td>1.28</td>\n",
       "    </tr>\n",
       "    <tr>\n",
       "      <th>5</th>\n",
       "      <td>sqft_living</td>\n",
       "      <td>290.00</td>\n",
       "      <td>13540.00</td>\n",
       "      <td>13250.00</td>\n",
       "      <td>2079.90</td>\n",
       "      <td>1910.00</td>\n",
       "      <td>918.42</td>\n",
       "      <td>1.47</td>\n",
       "      <td>5.24</td>\n",
       "    </tr>\n",
       "    <tr>\n",
       "      <th>6</th>\n",
       "      <td>sqft_lot</td>\n",
       "      <td>520.00</td>\n",
       "      <td>1651359.00</td>\n",
       "      <td>1650839.00</td>\n",
       "      <td>15106.97</td>\n",
       "      <td>7618.00</td>\n",
       "      <td>41419.55</td>\n",
       "      <td>13.06</td>\n",
       "      <td>285.08</td>\n",
       "    </tr>\n",
       "    <tr>\n",
       "      <th>7</th>\n",
       "      <td>floors</td>\n",
       "      <td>1.00</td>\n",
       "      <td>3.50</td>\n",
       "      <td>2.50</td>\n",
       "      <td>1.49</td>\n",
       "      <td>1.50</td>\n",
       "      <td>0.54</td>\n",
       "      <td>0.62</td>\n",
       "      <td>-0.48</td>\n",
       "    </tr>\n",
       "    <tr>\n",
       "      <th>8</th>\n",
       "      <td>waterfront</td>\n",
       "      <td>0.00</td>\n",
       "      <td>1.00</td>\n",
       "      <td>1.00</td>\n",
       "      <td>0.01</td>\n",
       "      <td>0.00</td>\n",
       "      <td>0.09</td>\n",
       "      <td>11.39</td>\n",
       "      <td>127.63</td>\n",
       "    </tr>\n",
       "    <tr>\n",
       "      <th>9</th>\n",
       "      <td>view</td>\n",
       "      <td>0.00</td>\n",
       "      <td>4.00</td>\n",
       "      <td>4.00</td>\n",
       "      <td>0.23</td>\n",
       "      <td>0.00</td>\n",
       "      <td>0.77</td>\n",
       "      <td>3.40</td>\n",
       "      <td>10.89</td>\n",
       "    </tr>\n",
       "    <tr>\n",
       "      <th>10</th>\n",
       "      <td>condition</td>\n",
       "      <td>1.00</td>\n",
       "      <td>5.00</td>\n",
       "      <td>4.00</td>\n",
       "      <td>3.41</td>\n",
       "      <td>3.00</td>\n",
       "      <td>0.65</td>\n",
       "      <td>1.03</td>\n",
       "      <td>0.53</td>\n",
       "    </tr>\n",
       "    <tr>\n",
       "      <th>11</th>\n",
       "      <td>grade</td>\n",
       "      <td>1.00</td>\n",
       "      <td>13.00</td>\n",
       "      <td>12.00</td>\n",
       "      <td>7.66</td>\n",
       "      <td>7.00</td>\n",
       "      <td>1.18</td>\n",
       "      <td>0.77</td>\n",
       "      <td>1.19</td>\n",
       "    </tr>\n",
       "    <tr>\n",
       "      <th>12</th>\n",
       "      <td>sqft_above</td>\n",
       "      <td>290.00</td>\n",
       "      <td>9410.00</td>\n",
       "      <td>9120.00</td>\n",
       "      <td>1788.39</td>\n",
       "      <td>1560.00</td>\n",
       "      <td>828.07</td>\n",
       "      <td>1.45</td>\n",
       "      <td>3.40</td>\n",
       "    </tr>\n",
       "    <tr>\n",
       "      <th>18</th>\n",
       "      <td>long</td>\n",
       "      <td>-122.52</td>\n",
       "      <td>-121.31</td>\n",
       "      <td>1.20</td>\n",
       "      <td>-122.21</td>\n",
       "      <td>-122.23</td>\n",
       "      <td>0.14</td>\n",
       "      <td>0.89</td>\n",
       "      <td>1.05</td>\n",
       "    </tr>\n",
       "    <tr>\n",
       "      <th>19</th>\n",
       "      <td>sqft_living15</td>\n",
       "      <td>399.00</td>\n",
       "      <td>6210.00</td>\n",
       "      <td>5811.00</td>\n",
       "      <td>1986.55</td>\n",
       "      <td>1840.00</td>\n",
       "      <td>685.38</td>\n",
       "      <td>1.11</td>\n",
       "      <td>1.60</td>\n",
       "    </tr>\n",
       "    <tr>\n",
       "      <th>20</th>\n",
       "      <td>sqft_lot15</td>\n",
       "      <td>651.00</td>\n",
       "      <td>871200.00</td>\n",
       "      <td>870549.00</td>\n",
       "      <td>12768.46</td>\n",
       "      <td>7620.00</td>\n",
       "      <td>27303.55</td>\n",
       "      <td>9.51</td>\n",
       "      <td>150.76</td>\n",
       "    </tr>\n",
       "    <tr>\n",
       "      <th>21</th>\n",
       "      <td>year</td>\n",
       "      <td>2014.00</td>\n",
       "      <td>2015.00</td>\n",
       "      <td>1.00</td>\n",
       "      <td>2014.32</td>\n",
       "      <td>2014.00</td>\n",
       "      <td>0.47</td>\n",
       "      <td>0.76</td>\n",
       "      <td>-1.43</td>\n",
       "    </tr>\n",
       "    <tr>\n",
       "      <th>22</th>\n",
       "      <td>month</td>\n",
       "      <td>1.00</td>\n",
       "      <td>12.00</td>\n",
       "      <td>11.00</td>\n",
       "      <td>6.57</td>\n",
       "      <td>6.00</td>\n",
       "      <td>3.12</td>\n",
       "      <td>0.06</td>\n",
       "      <td>-1.01</td>\n",
       "    </tr>\n",
       "    <tr>\n",
       "      <th>23</th>\n",
       "      <td>day</td>\n",
       "      <td>1.00</td>\n",
       "      <td>31.00</td>\n",
       "      <td>30.00</td>\n",
       "      <td>15.69</td>\n",
       "      <td>16.00</td>\n",
       "      <td>8.63</td>\n",
       "      <td>-0.01</td>\n",
       "      <td>-1.20</td>\n",
       "    </tr>\n",
       "    <tr>\n",
       "      <th>24</th>\n",
       "      <td>week</td>\n",
       "      <td>1.00</td>\n",
       "      <td>52.00</td>\n",
       "      <td>51.00</td>\n",
       "      <td>26.87</td>\n",
       "      <td>26.00</td>\n",
       "      <td>13.50</td>\n",
       "      <td>0.05</td>\n",
       "      <td>-1.01</td>\n",
       "    </tr>\n",
       "  </tbody>\n",
       "</table>\n",
       "</div>"
      ],
      "text/plain": [
       "       attributes        min           max         range          mean        median           std  skew  kurtosis\n",
       "1              id 1000102.00 9900000190.00 9899000088.00 4580301520.86 3904930410.00 2876499023.43  0.24     -1.26\n",
       "2           price   75000.00    7700000.00    7625000.00     540088.14     450000.00     367118.70  4.02     34.59\n",
       "3        bedrooms       0.00         33.00         33.00          3.37          3.00          0.93  1.97     49.06\n",
       "4       bathrooms       0.00          8.00          8.00          2.11          2.25          0.77  0.51      1.28\n",
       "5     sqft_living     290.00      13540.00      13250.00       2079.90       1910.00        918.42  1.47      5.24\n",
       "6        sqft_lot     520.00    1651359.00    1650839.00      15106.97       7618.00      41419.55 13.06    285.08\n",
       "7          floors       1.00          3.50          2.50          1.49          1.50          0.54  0.62     -0.48\n",
       "8      waterfront       0.00          1.00          1.00          0.01          0.00          0.09 11.39    127.63\n",
       "9            view       0.00          4.00          4.00          0.23          0.00          0.77  3.40     10.89\n",
       "10      condition       1.00          5.00          4.00          3.41          3.00          0.65  1.03      0.53\n",
       "11          grade       1.00         13.00         12.00          7.66          7.00          1.18  0.77      1.19\n",
       "12     sqft_above     290.00       9410.00       9120.00       1788.39       1560.00        828.07  1.45      3.40\n",
       "18           long    -122.52       -121.31          1.20       -122.21       -122.23          0.14  0.89      1.05\n",
       "19  sqft_living15     399.00       6210.00       5811.00       1986.55       1840.00        685.38  1.11      1.60\n",
       "20     sqft_lot15     651.00     871200.00     870549.00      12768.46       7620.00      27303.55  9.51    150.76\n",
       "21           year    2014.00       2015.00          1.00       2014.32       2014.00          0.47  0.76     -1.43\n",
       "22          month       1.00         12.00         11.00          6.57          6.00          3.12  0.06     -1.01\n",
       "23            day       1.00         31.00         30.00         15.69         16.00          8.63 -0.01     -1.20\n",
       "24           week       1.00         52.00         51.00         26.87         26.00         13.50  0.05     -1.01"
      ]
     },
     "execution_count": 11,
     "metadata": {},
     "output_type": "execute_result"
    }
   ],
   "source": [
    "m"
   ]
  },
  {
   "cell_type": "markdown",
   "id": "3182ce9f",
   "metadata": {},
   "source": [
    "## 2.0. Feature Engineering"
   ]
  },
  {
   "cell_type": "code",
   "execution_count": 12,
   "id": "041fd2c4",
   "metadata": {
    "ExecuteTime": {
     "end_time": "2022-04-18T13:25:03.938344Z",
     "start_time": "2022-04-18T13:25:03.675024Z"
    }
   },
   "outputs": [],
   "source": [
    "#to datetime\n",
    "data['date'] = pd.to_datetime(data['date'])\n",
    "\n",
    "#year\n",
    "data['year'] = data['date'].dt.year\n",
    "\n",
    "#month\n",
    "data['month'] = data['date'].dt.month\n",
    "\n",
    "#day\n",
    "data['day'] = data['date'].dt.day\n",
    "\n",
    "#year-week\n",
    "data['year_week'] = data['date'].dt.strftime(\"%Y-%W\")\n",
    "\n",
    "#week\n",
    "data['week'] = data['date'].dt.isocalendar().week\n",
    "\n",
    "#season \n",
    "data['season'] = data['month'].apply(lambda x: 'summer' if (x>=6) & (x<=8) else \n",
    "                                                'fall' if (x>=9) & (x<=11) else\n",
    "                                                'spring' if (x>=3) & (x<=5) else\n",
    "                                                'winter')"
   ]
  },
  {
   "cell_type": "markdown",
   "id": "b3f6281e",
   "metadata": {},
   "source": [
    "### 2.1. Endereços via API"
   ]
  },
  {
   "cell_type": "code",
   "execution_count": 14,
   "id": "66a7fb4e",
   "metadata": {
    "ExecuteTime": {
     "end_time": "2022-04-18T13:25:24.796421Z",
     "start_time": "2022-04-18T13:25:23.890247Z"
    }
   },
   "outputs": [
    {
     "data": {
      "text/plain": [
       "{'place_id': 158810523,\n",
       " 'licence': 'Data © OpenStreetMap contributors, ODbL 1.0. https://osm.org/copyright',\n",
       " 'osm_type': 'way',\n",
       " 'osm_id': 236673776,\n",
       " 'lat': '47.50987735',\n",
       " 'lon': '-122.26001908123574',\n",
       " 'display_name': '5746, South Ryan Street, Rainier Beach, Seattle, King County, Washington, 98178, United States',\n",
       " 'address': {'house_number': '5746',\n",
       "  'road': 'South Ryan Street',\n",
       "  'neighbourhood': 'Rainier Beach',\n",
       "  'city': 'Seattle',\n",
       "  'county': 'King County',\n",
       "  'state': 'Washington',\n",
       "  'ISO3166-2-lvl4': 'US-WA',\n",
       "  'postcode': '98178',\n",
       "  'country': 'United States',\n",
       "  'country_code': 'us'},\n",
       " 'boundingbox': ['47.509808', '47.5099694', '-122.2600792', '-122.259959']}"
      ]
     },
     "execution_count": 14,
     "metadata": {},
     "output_type": "execute_result"
    }
   ],
   "source": [
    "#initialize API\n",
    "geolocator = Nominatim( user_agent='geoapiExercises' )\n",
    "\n",
    "response = geolocator.reverse('47.51 ,-122.26')\n",
    "response.raw"
   ]
  },
  {
   "cell_type": "code",
   "execution_count": 80,
   "id": "8498ee2c",
   "metadata": {
    "ExecuteTime": {
     "end_time": "2022-03-02T02:15:58.938546Z",
     "start_time": "2022-03-02T02:15:58.935237Z"
    }
   },
   "outputs": [],
   "source": [
    "#create empty rows\n",
    "# data['city'] = 'NA'\n",
    "# data['state'] = 'NA'"
   ]
  },
  {
   "cell_type": "code",
   "execution_count": 81,
   "id": "f6d6e331",
   "metadata": {
    "ExecuteTime": {
     "end_time": "2022-03-02T02:15:59.121600Z",
     "start_time": "2022-03-02T02:15:59.115823Z"
    }
   },
   "outputs": [],
   "source": [
    "\n",
    "# for i in range( len( data ) ):\n",
    "#     print( 'Loop: {}/{}'.format( i, len( data ) ) )\n",
    "#     # make request\n",
    "#     query = str( data.loc[i, 'lat'] ) + ',' + str( data.loc[i, 'long'] )\n",
    "#     response = geolocator.reverse(query)\n",
    "#     if 'city' in response.raw['address']:\n",
    "#         data.loc[i,'city'] = response.raw['address']['city']\n",
    "#     if 'state' in response.raw['address']:\n",
    "#         data.loc[i,'state'] = response.raw['address']['state']"
   ]
  },
  {
   "cell_type": "code",
   "execution_count": 55,
   "id": "29938ab3",
   "metadata": {
    "ExecuteTime": {
     "end_time": "2022-04-18T16:42:33.405559Z",
     "start_time": "2022-04-18T16:42:30.046284Z"
    }
   },
   "outputs": [
    {
     "name": "stdout",
     "output_type": "stream",
     "text": [
      "Loop: 4280/21613\n",
      "Loop: 4281/21613\n",
      "Loop: 4282/21613\n",
      "Loop: 4283/21613\n",
      "Loop: 4284/21613\n",
      "Loop: 4285/21613\n"
     ]
    }
   ],
   "source": [
    "# for i in range(len(data) ):\n",
    "#     print( 'Loop: {}/{}'.format( i, len( data ) ) )\n",
    "#     # make request\n",
    "\n",
    "#     query = str( data.loc[i, 'lat'] ) + ',' + str( data.loc[i, 'long'] )\n",
    "#     response = geolocator.reverse(query)\n",
    "#     if 'city' in response.raw['address']:\n",
    "#         data.loc[i,'city'] = response.raw['address']['city']\n",
    "#     if 'state' in response.raw['address']:\n",
    "#         data.loc[i,'state'] = response.raw['address']['state']\n",
    " \n"
   ]
  },
  {
   "cell_type": "code",
   "execution_count": 56,
   "id": "03aea303",
   "metadata": {
    "ExecuteTime": {
     "end_time": "2022-04-18T16:42:34.549837Z",
     "start_time": "2022-04-18T16:42:34.273753Z"
    }
   },
   "outputs": [
    {
     "data": {
      "text/plain": [
       "Unnamed: 0          0\n",
       "Unnamed: 0.1        0\n",
       "id                  0\n",
       "date                0\n",
       "price               0\n",
       "bedrooms            0\n",
       "bathrooms           0\n",
       "sqft_living         0\n",
       "sqft_lot            0\n",
       "floors              0\n",
       "waterfront          0\n",
       "view                0\n",
       "condition           0\n",
       "grade               0\n",
       "sqft_above          0\n",
       "sqft_basement       0\n",
       "yr_built            0\n",
       "yr_renovated        0\n",
       "zipcode             0\n",
       "lat                 0\n",
       "long                0\n",
       "sqft_living15       0\n",
       "sqft_lot15          0\n",
       "year                0\n",
       "month               0\n",
       "day                 0\n",
       "year_week           0\n",
       "week                0\n",
       "season              0\n",
       "city             5778\n",
       "state               0\n",
       "dtype: int64"
      ]
     },
     "execution_count": 56,
     "metadata": {},
     "output_type": "execute_result"
    }
   ],
   "source": [
    "# data.to_csv('kc_house_data2.csv')\n",
    "# data2 = pd.read_csv('kc_house_data2.csv')\n",
    "# data2.isna().sum()\n"
   ]
  },
  {
   "cell_type": "code",
   "execution_count": 20,
   "id": "4e8a3ab5",
   "metadata": {
    "ExecuteTime": {
     "end_time": "2022-04-18T13:52:07.340208Z",
     "start_time": "2022-04-18T13:52:07.326653Z"
    }
   },
   "outputs": [],
   "source": []
  },
  {
   "cell_type": "markdown",
   "id": "0eb0dfd6",
   "metadata": {},
   "source": [
    "## 3.0. Filtragem de variáveis"
   ]
  },
  {
   "cell_type": "code",
   "execution_count": 84,
   "id": "1480f3f9",
   "metadata": {
    "ExecuteTime": {
     "end_time": "2022-03-02T02:16:00.094808Z",
     "start_time": "2022-03-02T02:16:00.092748Z"
    }
   },
   "outputs": [],
   "source": [
    "#nothing to filter"
   ]
  },
  {
   "cell_type": "markdown",
   "id": "b7eddc04",
   "metadata": {},
   "source": [
    "## 4.0. Análise Exploratória de Dados\n"
   ]
  },
  {
   "cell_type": "markdown",
   "id": "306165be",
   "metadata": {},
   "source": [
    "### 4.1. Análise Univariada"
   ]
  },
  {
   "cell_type": "code",
   "execution_count": 85,
   "id": "45c1805e",
   "metadata": {
    "ExecuteTime": {
     "end_time": "2022-03-02T02:16:04.447724Z",
     "start_time": "2022-03-02T02:16:00.510324Z"
    }
   },
   "outputs": [
    {
     "data": {
      "image/png": "[encoded data removed]",
      "text/plain": [
       "<Figure size 1800x1296 with 25 Axes>"
      ]
     },
     "metadata": {},
     "output_type": "display_data"
    }
   ],
   "source": [
    "num_attributes.hist(bins=25);"
   ]
  },
  {
   "cell_type": "code",
   "execution_count": 86,
   "id": "270cad1b",
   "metadata": {
    "ExecuteTime": {
     "end_time": "2022-03-02T02:16:04.726995Z",
     "start_time": "2022-03-02T02:16:04.449482Z"
    }
   },
   "outputs": [
    {
     "name": "stderr",
     "output_type": "stream",
     "text": [
      "/home/heitor/repos/house_rocket/venv/lib/python3.8/site-packages/seaborn/distributions.py:2619: FutureWarning: `distplot` is a deprecated function and will be removed in a future version. Please adapt your code to use either `displot` (a figure-level function with similar flexibility) or `histplot` (an axes-level function for histograms).\n",
      "  warnings.warn(msg, FutureWarning)\n"
     ]
    },
    {
     "data": {
      "image/png": "[encoded data removed]",
      "text/plain": [
       "<Figure size 1800x1296 with 1 Axes>"
      ]
     },
     "metadata": {},
     "output_type": "display_data"
    }
   ],
   "source": [
    "sns.distplot( data['price'], kde=False );"
   ]
  },
  {
   "cell_type": "code",
   "execution_count": 87,
   "id": "e5ac4f78",
   "metadata": {
    "ExecuteTime": {
     "end_time": "2022-03-02T02:16:05.172774Z",
     "start_time": "2022-03-02T02:16:04.728542Z"
    }
   },
   "outputs": [
    {
     "data": {
      "image/png": "[encoded data removed]",
      "text/plain": [
       "<Figure size 1800x1296 with 1 Axes>"
      ]
     },
     "metadata": {},
     "output_type": "display_data"
    }
   ],
   "source": [
    "sns.kdeplot(data[data['waterfront']==1]['price'], label='waterfront', shade=True, legend=True);\n",
    "sns.kdeplot(data[data['waterfront']==0]['price'], label='no_waterfront', shade=True, legend=True);\n",
    "\n"
   ]
  },
  {
   "cell_type": "code",
   "execution_count": 88,
   "id": "a94f49e6",
   "metadata": {
    "ExecuteTime": {
     "end_time": "2022-03-02T02:16:05.839237Z",
     "start_time": "2022-03-02T02:16:05.175463Z"
    }
   },
   "outputs": [
    {
     "name": "stderr",
     "output_type": "stream",
     "text": [
      "/home/heitor/repos/house_rocket/venv/lib/python3.8/site-packages/seaborn/_decorators.py:36: FutureWarning: Pass the following variable as a keyword arg: x. From version 0.12, the only valid positional argument will be `data`, and passing other arguments without an explicit keyword will result in an error or misinterpretation.\n",
      "  warnings.warn(\n",
      "/home/heitor/repos/house_rocket/venv/lib/python3.8/site-packages/seaborn/_decorators.py:36: FutureWarning: Pass the following variable as a keyword arg: x. From version 0.12, the only valid positional argument will be `data`, and passing other arguments without an explicit keyword will result in an error or misinterpretation.\n",
      "  warnings.warn(\n",
      "/home/heitor/repos/house_rocket/venv/lib/python3.8/site-packages/seaborn/_decorators.py:36: FutureWarning: Pass the following variable as a keyword arg: x. From version 0.12, the only valid positional argument will be `data`, and passing other arguments without an explicit keyword will result in an error or misinterpretation.\n",
      "  warnings.warn(\n"
     ]
    },
    {
     "data": {
      "image/png": "[encoded data removed]",
      "text/plain": [
       "<Figure size 1800x1296 with 3 Axes>"
      ]
     },
     "metadata": {},
     "output_type": "display_data"
    }
   ],
   "source": [
    "# bedrooms \n",
    "#bathrooms\n",
    "#floors\n",
    "\n",
    "#waterfront\n",
    "#view\n",
    "#condition\n",
    "\n",
    "plt.subplot(3,1,1)\n",
    "aux = data[data['bedrooms']<7]\n",
    "sns.countplot(aux['bedrooms']);\n",
    "\n",
    "plt.subplot(3,1,2)\n",
    "aux2 = data[(data['bathrooms']!=0) & (data['bathrooms']<5)]\n",
    "sns.countplot(aux2['bathrooms'])\n",
    "\n",
    "plt.subplot(3,1,3)\n",
    "sns.countplot(data['floors']);\n",
    "\n"
   ]
  },
  {
   "cell_type": "markdown",
   "id": "7e58f787",
   "metadata": {
    "ExecuteTime": {
     "end_time": "2022-02-25T16:18:12.044734Z",
     "start_time": "2022-02-25T16:18:12.032381Z"
    }
   },
   "source": [
    "### 4.2. Análise Bivariada"
   ]
  },
  {
   "cell_type": "code",
   "execution_count": 89,
   "id": "5fdfd935",
   "metadata": {
    "ExecuteTime": {
     "end_time": "2022-03-02T02:16:05.845113Z",
     "start_time": "2022-03-02T02:16:05.840944Z"
    }
   },
   "outputs": [
    {
     "data": {
      "text/plain": [
       "Index(['Unnamed: 0', 'id', 'date', 'price', 'bedrooms', 'bathrooms',\n",
       "       'sqft_living', 'sqft_lot', 'floors', 'waterfront', 'view', 'condition',\n",
       "       'grade', 'sqft_above', 'sqft_basement', 'yr_built', 'yr_renovated',\n",
       "       'zipcode', 'lat', 'long', 'sqft_living15', 'sqft_lot15', 'year',\n",
       "       'month', 'day', 'year_week', 'week', 'season', 'city', 'state'],\n",
       "      dtype='object')"
      ]
     },
     "execution_count": 89,
     "metadata": {},
     "output_type": "execute_result"
    }
   ],
   "source": [
    "data.columns"
   ]
  },
  {
   "cell_type": "markdown",
   "id": "92de8407",
   "metadata": {
    "ExecuteTime": {
     "end_time": "2022-02-25T16:56:57.160335Z",
     "start_time": "2022-02-25T16:56:57.154605Z"
    }
   },
   "source": [
    "#### 4.2.1. Hipóteses"
   ]
  },
  {
   "cell_type": "markdown",
   "id": "670bd7a2",
   "metadata": {
    "ExecuteTime": {
     "end_time": "2022-02-25T16:54:30.330512Z",
     "start_time": "2022-02-25T16:54:30.322142Z"
    }
   },
   "source": [
    "#### H1. Casas vendidas no verão são mais caras e no inverno, mais baratas\n",
    "\n",
    "\n",
    "Falso: Casas vendidas na primavera são as mais caras\n"
   ]
  },
  {
   "cell_type": "code",
   "execution_count": 90,
   "id": "ef8f9107",
   "metadata": {
    "ExecuteTime": {
     "end_time": "2022-03-02T02:16:05.963980Z",
     "start_time": "2022-03-02T02:16:05.846533Z"
    }
   },
   "outputs": [
    {
     "data": {
      "text/html": [
       "<div>\n",
       "<style scoped>\n",
       "    .dataframe tbody tr th:only-of-type {\n",
       "        vertical-align: middle;\n",
       "    }\n",
       "\n",
       "    .dataframe tbody tr th {\n",
       "        vertical-align: top;\n",
       "    }\n",
       "\n",
       "    .dataframe thead th {\n",
       "        text-align: right;\n",
       "    }\n",
       "</style>\n",
       "<table border=\"1\" class=\"dataframe\">\n",
       "  <thead>\n",
       "    <tr style=\"text-align: right;\">\n",
       "      <th></th>\n",
       "      <th>season</th>\n",
       "      <th>price</th>\n",
       "    </tr>\n",
       "  </thead>\n",
       "  <tbody>\n",
       "    <tr>\n",
       "      <th>0</th>\n",
       "      <td>fall</td>\n",
       "      <td>530846.52</td>\n",
       "    </tr>\n",
       "    <tr>\n",
       "      <th>1</th>\n",
       "      <td>spring</td>\n",
       "      <td>552603.24</td>\n",
       "    </tr>\n",
       "    <tr>\n",
       "      <th>2</th>\n",
       "      <td>summer</td>\n",
       "      <td>546781.96</td>\n",
       "    </tr>\n",
       "    <tr>\n",
       "      <th>3</th>\n",
       "      <td>winter</td>\n",
       "      <td>519221.24</td>\n",
       "    </tr>\n",
       "  </tbody>\n",
       "</table>\n",
       "</div>"
      ],
      "text/plain": [
       "   season     price\n",
       "0    fall 530846.52\n",
       "1  spring 552603.24\n",
       "2  summer 546781.96\n",
       "3  winter 519221.24"
      ]
     },
     "execution_count": 90,
     "metadata": {},
     "output_type": "execute_result"
    }
   ],
   "source": [
    "aux = data[['season','price']].groupby('season').mean().reset_index()\n",
    "# sns.barplot(x='season',y='price', data=aux);\n",
    "aux"
   ]
  },
  {
   "cell_type": "markdown",
   "id": "5a13e2a7",
   "metadata": {},
   "source": [
    "#### H2. A cada banheiro, o valor médio do imóvel sobe pelo menos 5%"
   ]
  },
  {
   "cell_type": "code",
   "execution_count": 91,
   "id": "275ce255",
   "metadata": {
    "ExecuteTime": {
     "end_time": "2022-03-02T02:16:06.322670Z",
     "start_time": "2022-03-02T02:16:05.966724Z"
    }
   },
   "outputs": [
    {
     "data": {
      "text/plain": [
       "<AxesSubplot:xlabel='bathrooms', ylabel='price'>"
      ]
     },
     "execution_count": 91,
     "metadata": {},
     "output_type": "execute_result"
    },
    {
     "data": {
      "image/png": "[encoded data removed]",
      "text/plain": [
       "<Figure size 1800x1296 with 1 Axes>"
      ]
     },
     "metadata": {},
     "output_type": "display_data"
    }
   ],
   "source": [
    "aux = data[['bathrooms','price']].groupby('bathrooms').mean().reset_index()\n",
    "\n",
    "for i in range(0,len(aux)-1):\n",
    "    aux.loc[i+1,'difference'] = (aux.loc[i+1,'price'] - aux.loc[i,'price'])/aux.loc[i,'price']\n",
    "\n",
    "    \n",
    "sns.lineplot(x='bathrooms',y='price', data=aux)    "
   ]
  },
  {
   "cell_type": "code",
   "execution_count": 92,
   "id": "b5d88569",
   "metadata": {
    "ExecuteTime": {
     "end_time": "2022-03-02T02:16:06.331389Z",
     "start_time": "2022-03-02T02:16:06.324141Z"
    }
   },
   "outputs": [
    {
     "data": {
      "text/html": [
       "<div>\n",
       "<style scoped>\n",
       "    .dataframe tbody tr th:only-of-type {\n",
       "        vertical-align: middle;\n",
       "    }\n",
       "\n",
       "    .dataframe tbody tr th {\n",
       "        vertical-align: top;\n",
       "    }\n",
       "\n",
       "    .dataframe thead th {\n",
       "        text-align: right;\n",
       "    }\n",
       "</style>\n",
       "<table border=\"1\" class=\"dataframe\">\n",
       "  <thead>\n",
       "    <tr style=\"text-align: right;\">\n",
       "      <th></th>\n",
       "      <th>bathrooms</th>\n",
       "      <th>price</th>\n",
       "      <th>difference</th>\n",
       "    </tr>\n",
       "  </thead>\n",
       "  <tbody>\n",
       "    <tr>\n",
       "      <th>0</th>\n",
       "      <td>0.00</td>\n",
       "      <td>448160.00</td>\n",
       "      <td>NaN</td>\n",
       "    </tr>\n",
       "    <tr>\n",
       "      <th>1</th>\n",
       "      <td>0.50</td>\n",
       "      <td>237375.00</td>\n",
       "      <td>-0.47</td>\n",
       "    </tr>\n",
       "    <tr>\n",
       "      <th>2</th>\n",
       "      <td>0.75</td>\n",
       "      <td>294520.86</td>\n",
       "      <td>0.24</td>\n",
       "    </tr>\n",
       "    <tr>\n",
       "      <th>3</th>\n",
       "      <td>1.00</td>\n",
       "      <td>347041.24</td>\n",
       "      <td>0.18</td>\n",
       "    </tr>\n",
       "    <tr>\n",
       "      <th>4</th>\n",
       "      <td>1.25</td>\n",
       "      <td>621216.67</td>\n",
       "      <td>0.79</td>\n",
       "    </tr>\n",
       "    <tr>\n",
       "      <th>5</th>\n",
       "      <td>1.50</td>\n",
       "      <td>409322.21</td>\n",
       "      <td>-0.34</td>\n",
       "    </tr>\n",
       "    <tr>\n",
       "      <th>6</th>\n",
       "      <td>1.75</td>\n",
       "      <td>454896.10</td>\n",
       "      <td>0.11</td>\n",
       "    </tr>\n",
       "    <tr>\n",
       "      <th>7</th>\n",
       "      <td>2.00</td>\n",
       "      <td>457889.72</td>\n",
       "      <td>0.01</td>\n",
       "    </tr>\n",
       "    <tr>\n",
       "      <th>8</th>\n",
       "      <td>2.25</td>\n",
       "      <td>533676.77</td>\n",
       "      <td>0.17</td>\n",
       "    </tr>\n",
       "    <tr>\n",
       "      <th>9</th>\n",
       "      <td>2.50</td>\n",
       "      <td>553596.50</td>\n",
       "      <td>0.04</td>\n",
       "    </tr>\n",
       "    <tr>\n",
       "      <th>10</th>\n",
       "      <td>2.75</td>\n",
       "      <td>660230.35</td>\n",
       "      <td>0.19</td>\n",
       "    </tr>\n",
       "    <tr>\n",
       "      <th>11</th>\n",
       "      <td>3.00</td>\n",
       "      <td>708415.23</td>\n",
       "      <td>0.07</td>\n",
       "    </tr>\n",
       "    <tr>\n",
       "      <th>12</th>\n",
       "      <td>3.25</td>\n",
       "      <td>970339.78</td>\n",
       "      <td>0.37</td>\n",
       "    </tr>\n",
       "    <tr>\n",
       "      <th>13</th>\n",
       "      <td>3.50</td>\n",
       "      <td>931933.15</td>\n",
       "      <td>-0.04</td>\n",
       "    </tr>\n",
       "    <tr>\n",
       "      <th>14</th>\n",
       "      <td>3.75</td>\n",
       "      <td>1197216.90</td>\n",
       "      <td>0.28</td>\n",
       "    </tr>\n",
       "    <tr>\n",
       "      <th>15</th>\n",
       "      <td>4.00</td>\n",
       "      <td>1267709.32</td>\n",
       "      <td>0.06</td>\n",
       "    </tr>\n",
       "    <tr>\n",
       "      <th>16</th>\n",
       "      <td>4.25</td>\n",
       "      <td>1525774.43</td>\n",
       "      <td>0.20</td>\n",
       "    </tr>\n",
       "    <tr>\n",
       "      <th>17</th>\n",
       "      <td>4.50</td>\n",
       "      <td>1333620.21</td>\n",
       "      <td>-0.13</td>\n",
       "    </tr>\n",
       "    <tr>\n",
       "      <th>18</th>\n",
       "      <td>4.75</td>\n",
       "      <td>2021303.91</td>\n",
       "      <td>0.52</td>\n",
       "    </tr>\n",
       "    <tr>\n",
       "      <th>19</th>\n",
       "      <td>5.00</td>\n",
       "      <td>1673491.90</td>\n",
       "      <td>-0.17</td>\n",
       "    </tr>\n",
       "    <tr>\n",
       "      <th>20</th>\n",
       "      <td>5.25</td>\n",
       "      <td>1817176.92</td>\n",
       "      <td>0.09</td>\n",
       "    </tr>\n",
       "    <tr>\n",
       "      <th>21</th>\n",
       "      <td>5.50</td>\n",
       "      <td>2522300.00</td>\n",
       "      <td>0.39</td>\n",
       "    </tr>\n",
       "    <tr>\n",
       "      <th>22</th>\n",
       "      <td>5.75</td>\n",
       "      <td>2492500.00</td>\n",
       "      <td>-0.01</td>\n",
       "    </tr>\n",
       "    <tr>\n",
       "      <th>23</th>\n",
       "      <td>6.00</td>\n",
       "      <td>2946833.33</td>\n",
       "      <td>0.18</td>\n",
       "    </tr>\n",
       "    <tr>\n",
       "      <th>24</th>\n",
       "      <td>6.25</td>\n",
       "      <td>3094000.00</td>\n",
       "      <td>0.05</td>\n",
       "    </tr>\n",
       "    <tr>\n",
       "      <th>25</th>\n",
       "      <td>6.50</td>\n",
       "      <td>1709445.00</td>\n",
       "      <td>-0.45</td>\n",
       "    </tr>\n",
       "    <tr>\n",
       "      <th>26</th>\n",
       "      <td>6.75</td>\n",
       "      <td>2734000.00</td>\n",
       "      <td>0.60</td>\n",
       "    </tr>\n",
       "    <tr>\n",
       "      <th>27</th>\n",
       "      <td>7.50</td>\n",
       "      <td>450000.00</td>\n",
       "      <td>-0.84</td>\n",
       "    </tr>\n",
       "    <tr>\n",
       "      <th>28</th>\n",
       "      <td>7.75</td>\n",
       "      <td>6885000.00</td>\n",
       "      <td>14.30</td>\n",
       "    </tr>\n",
       "    <tr>\n",
       "      <th>29</th>\n",
       "      <td>8.00</td>\n",
       "      <td>4990000.00</td>\n",
       "      <td>-0.28</td>\n",
       "    </tr>\n",
       "  </tbody>\n",
       "</table>\n",
       "</div>"
      ],
      "text/plain": [
       "    bathrooms      price  difference\n",
       "0        0.00  448160.00         NaN\n",
       "1        0.50  237375.00       -0.47\n",
       "2        0.75  294520.86        0.24\n",
       "3        1.00  347041.24        0.18\n",
       "4        1.25  621216.67        0.79\n",
       "5        1.50  409322.21       -0.34\n",
       "6        1.75  454896.10        0.11\n",
       "7        2.00  457889.72        0.01\n",
       "8        2.25  533676.77        0.17\n",
       "9        2.50  553596.50        0.04\n",
       "10       2.75  660230.35        0.19\n",
       "11       3.00  708415.23        0.07\n",
       "12       3.25  970339.78        0.37\n",
       "13       3.50  931933.15       -0.04\n",
       "14       3.75 1197216.90        0.28\n",
       "15       4.00 1267709.32        0.06\n",
       "16       4.25 1525774.43        0.20\n",
       "17       4.50 1333620.21       -0.13\n",
       "18       4.75 2021303.91        0.52\n",
       "19       5.00 1673491.90       -0.17\n",
       "20       5.25 1817176.92        0.09\n",
       "21       5.50 2522300.00        0.39\n",
       "22       5.75 2492500.00       -0.01\n",
       "23       6.00 2946833.33        0.18\n",
       "24       6.25 3094000.00        0.05\n",
       "25       6.50 1709445.00       -0.45\n",
       "26       6.75 2734000.00        0.60\n",
       "27       7.50  450000.00       -0.84\n",
       "28       7.75 6885000.00       14.30\n",
       "29       8.00 4990000.00       -0.28"
      ]
     },
     "execution_count": 92,
     "metadata": {},
     "output_type": "execute_result"
    }
   ],
   "source": [
    "aux"
   ]
  },
  {
   "cell_type": "markdown",
   "id": "9eb483b3",
   "metadata": {},
   "source": [
    "#### H3. A cada quarto, o valor do imóvel sobe pelo menos 8%\n",
    "\n",
    "Falso: O comportamento não vale sempre, porém na maior parte é verdade"
   ]
  },
  {
   "cell_type": "code",
   "execution_count": 93,
   "id": "08f0f9dc",
   "metadata": {
    "ExecuteTime": {
     "end_time": "2022-03-02T02:16:06.704005Z",
     "start_time": "2022-03-02T02:16:06.333194Z"
    }
   },
   "outputs": [
    {
     "data": {
      "text/plain": [
       "<AxesSubplot:xlabel='bedrooms', ylabel='price'>"
      ]
     },
     "execution_count": 93,
     "metadata": {},
     "output_type": "execute_result"
    },
    {
     "data": {
      "image/png": "[encoded data removed]",
      "text/plain": [
       "<Figure size 1800x1296 with 1 Axes>"
      ]
     },
     "metadata": {},
     "output_type": "display_data"
    }
   ],
   "source": [
    "aux = data[['bedrooms','price']].groupby('bedrooms').mean().reset_index()\n",
    "\n",
    "\n",
    "for i in range(0,len(aux)-1):\n",
    "    aux.loc[i+1,'difference'] = (aux.loc[i+1,'price'] - aux.loc[i,'price'])/aux.loc[i,'price']\n",
    "sns.barplot(x='bedrooms',y='price',data=aux)\n"
   ]
  },
  {
   "cell_type": "code",
   "execution_count": 94,
   "id": "d111bb03",
   "metadata": {
    "ExecuteTime": {
     "end_time": "2022-03-02T02:16:06.712487Z",
     "start_time": "2022-03-02T02:16:06.706240Z"
    }
   },
   "outputs": [
    {
     "data": {
      "text/html": [
       "<div>\n",
       "<style scoped>\n",
       "    .dataframe tbody tr th:only-of-type {\n",
       "        vertical-align: middle;\n",
       "    }\n",
       "\n",
       "    .dataframe tbody tr th {\n",
       "        vertical-align: top;\n",
       "    }\n",
       "\n",
       "    .dataframe thead th {\n",
       "        text-align: right;\n",
       "    }\n",
       "</style>\n",
       "<table border=\"1\" class=\"dataframe\">\n",
       "  <thead>\n",
       "    <tr style=\"text-align: right;\">\n",
       "      <th></th>\n",
       "      <th>bedrooms</th>\n",
       "      <th>price</th>\n",
       "      <th>difference</th>\n",
       "    </tr>\n",
       "  </thead>\n",
       "  <tbody>\n",
       "    <tr>\n",
       "      <th>0</th>\n",
       "      <td>0</td>\n",
       "      <td>409503.85</td>\n",
       "      <td>NaN</td>\n",
       "    </tr>\n",
       "    <tr>\n",
       "      <th>1</th>\n",
       "      <td>1</td>\n",
       "      <td>317642.88</td>\n",
       "      <td>-0.22</td>\n",
       "    </tr>\n",
       "    <tr>\n",
       "      <th>2</th>\n",
       "      <td>2</td>\n",
       "      <td>401372.68</td>\n",
       "      <td>0.26</td>\n",
       "    </tr>\n",
       "    <tr>\n",
       "      <th>3</th>\n",
       "      <td>3</td>\n",
       "      <td>466232.08</td>\n",
       "      <td>0.16</td>\n",
       "    </tr>\n",
       "    <tr>\n",
       "      <th>4</th>\n",
       "      <td>4</td>\n",
       "      <td>635419.50</td>\n",
       "      <td>0.36</td>\n",
       "    </tr>\n",
       "    <tr>\n",
       "      <th>5</th>\n",
       "      <td>5</td>\n",
       "      <td>786599.83</td>\n",
       "      <td>0.24</td>\n",
       "    </tr>\n",
       "    <tr>\n",
       "      <th>6</th>\n",
       "      <td>6</td>\n",
       "      <td>825520.64</td>\n",
       "      <td>0.05</td>\n",
       "    </tr>\n",
       "    <tr>\n",
       "      <th>7</th>\n",
       "      <td>7</td>\n",
       "      <td>951184.66</td>\n",
       "      <td>0.15</td>\n",
       "    </tr>\n",
       "    <tr>\n",
       "      <th>8</th>\n",
       "      <td>8</td>\n",
       "      <td>1105076.92</td>\n",
       "      <td>0.16</td>\n",
       "    </tr>\n",
       "    <tr>\n",
       "      <th>9</th>\n",
       "      <td>9</td>\n",
       "      <td>893999.83</td>\n",
       "      <td>-0.19</td>\n",
       "    </tr>\n",
       "    <tr>\n",
       "      <th>10</th>\n",
       "      <td>10</td>\n",
       "      <td>819333.33</td>\n",
       "      <td>-0.08</td>\n",
       "    </tr>\n",
       "    <tr>\n",
       "      <th>11</th>\n",
       "      <td>11</td>\n",
       "      <td>520000.00</td>\n",
       "      <td>-0.37</td>\n",
       "    </tr>\n",
       "    <tr>\n",
       "      <th>12</th>\n",
       "      <td>33</td>\n",
       "      <td>640000.00</td>\n",
       "      <td>0.23</td>\n",
       "    </tr>\n",
       "  </tbody>\n",
       "</table>\n",
       "</div>"
      ],
      "text/plain": [
       "    bedrooms      price  difference\n",
       "0          0  409503.85         NaN\n",
       "1          1  317642.88       -0.22\n",
       "2          2  401372.68        0.26\n",
       "3          3  466232.08        0.16\n",
       "4          4  635419.50        0.36\n",
       "5          5  786599.83        0.24\n",
       "6          6  825520.64        0.05\n",
       "7          7  951184.66        0.15\n",
       "8          8 1105076.92        0.16\n",
       "9          9  893999.83       -0.19\n",
       "10        10  819333.33       -0.08\n",
       "11        11  520000.00       -0.37\n",
       "12        33  640000.00        0.23"
      ]
     },
     "execution_count": 94,
     "metadata": {},
     "output_type": "execute_result"
    }
   ],
   "source": [
    "aux"
   ]
  },
  {
   "cell_type": "markdown",
   "id": "20d4726f",
   "metadata": {},
   "source": [
    "#### H4. Imóveis com vista para o mar é pelo menos 50% mais caro que as demais, em média\n",
    "\n",
    "Verdade, imóveis com vista para ao mar é mais que 50% mais caro que os demais"
   ]
  },
  {
   "cell_type": "code",
   "execution_count": 95,
   "id": "aabed310",
   "metadata": {
    "ExecuteTime": {
     "end_time": "2022-03-02T02:16:06.839066Z",
     "start_time": "2022-03-02T02:16:06.714080Z"
    }
   },
   "outputs": [
    {
     "data": {
      "text/html": [
       "<div>\n",
       "<style scoped>\n",
       "    .dataframe tbody tr th:only-of-type {\n",
       "        vertical-align: middle;\n",
       "    }\n",
       "\n",
       "    .dataframe tbody tr th {\n",
       "        vertical-align: top;\n",
       "    }\n",
       "\n",
       "    .dataframe thead th {\n",
       "        text-align: right;\n",
       "    }\n",
       "</style>\n",
       "<table border=\"1\" class=\"dataframe\">\n",
       "  <thead>\n",
       "    <tr style=\"text-align: right;\">\n",
       "      <th></th>\n",
       "      <th>waterfront</th>\n",
       "      <th>price</th>\n",
       "    </tr>\n",
       "  </thead>\n",
       "  <tbody>\n",
       "    <tr>\n",
       "      <th>0</th>\n",
       "      <td>0</td>\n",
       "      <td>531563.60</td>\n",
       "    </tr>\n",
       "    <tr>\n",
       "      <th>1</th>\n",
       "      <td>1</td>\n",
       "      <td>1661876.02</td>\n",
       "    </tr>\n",
       "  </tbody>\n",
       "</table>\n",
       "</div>"
      ],
      "text/plain": [
       "   waterfront      price\n",
       "0           0  531563.60\n",
       "1           1 1661876.02"
      ]
     },
     "execution_count": 95,
     "metadata": {},
     "output_type": "execute_result"
    }
   ],
   "source": [
    "\n",
    "\n",
    "aux = data[['waterfront','price']].groupby('waterfront').mean().reset_index()\n",
    "aux"
   ]
  },
  {
   "cell_type": "markdown",
   "id": "92a1aa57",
   "metadata": {},
   "source": [
    "#### H5. Casas com porões, são pelo menos 10% mais baratas que as demais.\n",
    "\n",
    "Falso: Casas com porão são 27% mais caras em média."
   ]
  },
  {
   "cell_type": "code",
   "execution_count": 96,
   "id": "12dfcd63",
   "metadata": {
    "ExecuteTime": {
     "end_time": "2022-03-02T02:16:06.965184Z",
     "start_time": "2022-03-02T02:16:06.844615Z"
    }
   },
   "outputs": [
    {
     "data": {
      "text/html": [
       "<div>\n",
       "<style scoped>\n",
       "    .dataframe tbody tr th:only-of-type {\n",
       "        vertical-align: middle;\n",
       "    }\n",
       "\n",
       "    .dataframe tbody tr th {\n",
       "        vertical-align: top;\n",
       "    }\n",
       "\n",
       "    .dataframe thead th {\n",
       "        text-align: right;\n",
       "    }\n",
       "</style>\n",
       "<table border=\"1\" class=\"dataframe\">\n",
       "  <thead>\n",
       "    <tr style=\"text-align: right;\">\n",
       "      <th></th>\n",
       "      <th>basement</th>\n",
       "      <th>price</th>\n",
       "    </tr>\n",
       "  </thead>\n",
       "  <tbody>\n",
       "    <tr>\n",
       "      <th>0</th>\n",
       "      <td>no</td>\n",
       "      <td>486884.09</td>\n",
       "    </tr>\n",
       "    <tr>\n",
       "      <th>1</th>\n",
       "      <td>yes</td>\n",
       "      <td>622373.56</td>\n",
       "    </tr>\n",
       "  </tbody>\n",
       "</table>\n",
       "</div>"
      ],
      "text/plain": [
       "  basement     price\n",
       "0       no 486884.09\n",
       "1      yes 622373.56"
      ]
     },
     "execution_count": 96,
     "metadata": {},
     "output_type": "execute_result"
    }
   ],
   "source": [
    "data['basement'] = data['sqft_basement'].apply(lambda x: 'yes' if x>0 else 'no')\n",
    "\n",
    "aux = data[['basement','price']].groupby('basement').mean().reset_index()\n",
    "aux"
   ]
  },
  {
   "cell_type": "markdown",
   "id": "8b8e332b",
   "metadata": {},
   "source": [
    "#### H6. O valor/m² do imóvel de frente para o mar é 50% mais caro que os demais \n",
    "\n",
    "Falso: Imóveis de frente ao mar sãol 37% mais caros"
   ]
  },
  {
   "cell_type": "code",
   "execution_count": 97,
   "id": "208aaacb",
   "metadata": {
    "ExecuteTime": {
     "end_time": "2022-03-02T02:16:07.065107Z",
     "start_time": "2022-03-02T02:16:06.967742Z"
    }
   },
   "outputs": [
    {
     "data": {
      "text/html": [
       "<div>\n",
       "<style scoped>\n",
       "    .dataframe tbody tr th:only-of-type {\n",
       "        vertical-align: middle;\n",
       "    }\n",
       "\n",
       "    .dataframe tbody tr th {\n",
       "        vertical-align: top;\n",
       "    }\n",
       "\n",
       "    .dataframe thead th {\n",
       "        text-align: right;\n",
       "    }\n",
       "</style>\n",
       "<table border=\"1\" class=\"dataframe\">\n",
       "  <thead>\n",
       "    <tr style=\"text-align: right;\">\n",
       "      <th></th>\n",
       "      <th>waterfront</th>\n",
       "      <th>price_m2</th>\n",
       "    </tr>\n",
       "  </thead>\n",
       "  <tbody>\n",
       "    <tr>\n",
       "      <th>0</th>\n",
       "      <td>0</td>\n",
       "      <td>954.93</td>\n",
       "    </tr>\n",
       "    <tr>\n",
       "      <th>1</th>\n",
       "      <td>1</td>\n",
       "      <td>1313.07</td>\n",
       "    </tr>\n",
       "  </tbody>\n",
       "</table>\n",
       "</div>"
      ],
      "text/plain": [
       "   waterfront  price_m2\n",
       "0           0    954.93\n",
       "1           1   1313.07"
      ]
     },
     "execution_count": 97,
     "metadata": {},
     "output_type": "execute_result"
    }
   ],
   "source": [
    "data.head()\n",
    "data['m2'] = data['sqft_lot']*0.09290304\n",
    "data['price_m2'] = data['price']/data['m2']\n",
    "\n",
    "aux = data[['waterfront','price_m2']].groupby('waterfront').mean().reset_index()\n",
    "\n",
    "aux"
   ]
  },
  {
   "cell_type": "markdown",
   "id": "7071a510",
   "metadata": {},
   "source": [
    "#### H7. Os imóveis são mais caros no primeiro semestre do ano\n",
    "\n",
    "Falso: Não há diferença relevante em relação ao semestre do ano"
   ]
  },
  {
   "cell_type": "code",
   "execution_count": 101,
   "id": "c1c287bb",
   "metadata": {
    "ExecuteTime": {
     "end_time": "2022-03-02T02:18:16.119014Z",
     "start_time": "2022-03-02T02:18:16.085352Z"
    }
   },
   "outputs": [
    {
     "data": {
      "text/html": [
       "<div>\n",
       "<style scoped>\n",
       "    .dataframe tbody tr th:only-of-type {\n",
       "        vertical-align: middle;\n",
       "    }\n",
       "\n",
       "    .dataframe tbody tr th {\n",
       "        vertical-align: top;\n",
       "    }\n",
       "\n",
       "    .dataframe thead th {\n",
       "        text-align: right;\n",
       "    }\n",
       "</style>\n",
       "<table border=\"1\" class=\"dataframe\">\n",
       "  <thead>\n",
       "    <tr style=\"text-align: right;\">\n",
       "      <th></th>\n",
       "      <th>semester</th>\n",
       "      <th>price</th>\n",
       "    </tr>\n",
       "  </thead>\n",
       "  <tbody>\n",
       "    <tr>\n",
       "      <th>0</th>\n",
       "      <td>1</td>\n",
       "      <td>546168.91</td>\n",
       "    </tr>\n",
       "    <tr>\n",
       "      <th>1</th>\n",
       "      <td>2</td>\n",
       "      <td>533869.08</td>\n",
       "    </tr>\n",
       "  </tbody>\n",
       "</table>\n",
       "</div>"
      ],
      "text/plain": [
       "   semester     price\n",
       "0         1 546168.91\n",
       "1         2 533869.08"
      ]
     },
     "execution_count": 101,
     "metadata": {},
     "output_type": "execute_result"
    }
   ],
   "source": [
    "data['semester'] = data['month'].apply(lambda x: 1 if x < 7 else 2)\n",
    "\n",
    "aux = data[['semester','price']].groupby('semester').mean().reset_index()\n",
    "\n",
    "aux"
   ]
  },
  {
   "cell_type": "markdown",
   "id": "5e2aa957",
   "metadata": {},
   "source": [
    "#### H8. A cada andar do imóvel, o valor aumenta pelo menos 5%\n",
    "\n",
    "Verdade: É verdade, exceto para imóveis com 3 andares, que é mais barato."
   ]
  },
  {
   "cell_type": "code",
   "execution_count": 104,
   "id": "28525cb1",
   "metadata": {
    "ExecuteTime": {
     "end_time": "2022-03-02T02:20:14.313542Z",
     "start_time": "2022-03-02T02:20:14.102786Z"
    }
   },
   "outputs": [
    {
     "data": {
      "text/plain": [
       "<AxesSubplot:xlabel='floors', ylabel='price'>"
      ]
     },
     "execution_count": 104,
     "metadata": {},
     "output_type": "execute_result"
    },
    {
     "data": {
      "image/png": "[encoded data removed]",
      "text/plain": [
       "<Figure size 1800x1296 with 1 Axes>"
      ]
     },
     "metadata": {},
     "output_type": "display_data"
    }
   ],
   "source": [
    "\n",
    "aux = data[['floors', 'price']].groupby('floors').mean().reset_index()\n",
    "\n",
    "sns.barplot(x='floors',y='price',data=aux\n",
    "In [101]:\n",
    ")"
   ]
  },
  {
   "cell_type": "markdown",
   "id": "57c784ba",
   "metadata": {},
   "source": [
    "#### H9. Os imóveis com melhores condições são pelo menos 50% mais caros que os imóveis com piores condições, em média\n",
    "\n",
    "Verdade: Os imóveis com melhores condições são 83% mais caros que com piores condições"
   ]
  },
  {
   "cell_type": "code",
   "execution_count": 105,
   "id": "4a859298",
   "metadata": {
    "ExecuteTime": {
     "end_time": "2022-03-02T02:21:36.189346Z",
     "start_time": "2022-03-02T02:21:36.164957Z"
    }
   },
   "outputs": [
    {
     "data": {
      "text/html": [
       "<div>\n",
       "<style scoped>\n",
       "    .dataframe tbody tr th:only-of-type {\n",
       "        vertical-align: middle;\n",
       "    }\n",
       "\n",
       "    .dataframe tbody tr th {\n",
       "        vertical-align: top;\n",
       "    }\n",
       "\n",
       "    .dataframe thead th {\n",
       "        text-align: right;\n",
       "    }\n",
       "</style>\n",
       "<table border=\"1\" class=\"dataframe\">\n",
       "  <thead>\n",
       "    <tr style=\"text-align: right;\">\n",
       "      <th></th>\n",
       "      <th>condition</th>\n",
       "      <th>price</th>\n",
       "    </tr>\n",
       "  </thead>\n",
       "  <tbody>\n",
       "    <tr>\n",
       "      <th>0</th>\n",
       "      <td>1</td>\n",
       "      <td>334431.67</td>\n",
       "    </tr>\n",
       "    <tr>\n",
       "      <th>1</th>\n",
       "      <td>2</td>\n",
       "      <td>327287.15</td>\n",
       "    </tr>\n",
       "    <tr>\n",
       "      <th>2</th>\n",
       "      <td>3</td>\n",
       "      <td>542012.58</td>\n",
       "    </tr>\n",
       "    <tr>\n",
       "      <th>3</th>\n",
       "      <td>4</td>\n",
       "      <td>521200.39</td>\n",
       "    </tr>\n",
       "    <tr>\n",
       "      <th>4</th>\n",
       "      <td>5</td>\n",
       "      <td>612418.09</td>\n",
       "    </tr>\n",
       "  </tbody>\n",
       "</table>\n",
       "</div>"
      ],
      "text/plain": [
       "   condition     price\n",
       "0          1 334431.67\n",
       "1          2 327287.15\n",
       "2          3 542012.58\n",
       "3          4 521200.39\n",
       "4          5 612418.09"
      ]
     },
     "execution_count": 105,
     "metadata": {},
     "output_type": "execute_result"
    }
   ],
   "source": [
    "aux = data[['condition','price']].groupby('condition').mean().reset_index()\n",
    "aux"
   ]
  },
  {
   "cell_type": "code",
   "execution_count": 107,
   "id": "7dff495a",
   "metadata": {
    "ExecuteTime": {
     "end_time": "2022-03-02T02:23:57.207529Z",
     "start_time": "2022-03-02T02:23:57.185856Z"
    }
   },
   "outputs": [
    {
     "data": {
      "text/html": [
       "<div>\n",
       "<style scoped>\n",
       "    .dataframe tbody tr th:only-of-type {\n",
       "        vertical-align: middle;\n",
       "    }\n",
       "\n",
       "    .dataframe tbody tr th {\n",
       "        vertical-align: top;\n",
       "    }\n",
       "\n",
       "    .dataframe thead th {\n",
       "        text-align: right;\n",
       "    }\n",
       "</style>\n",
       "<table border=\"1\" class=\"dataframe\">\n",
       "  <thead>\n",
       "    <tr style=\"text-align: right;\">\n",
       "      <th></th>\n",
       "      <th>Unnamed: 0</th>\n",
       "      <th>id</th>\n",
       "      <th>date</th>\n",
       "      <th>price</th>\n",
       "      <th>bedrooms</th>\n",
       "      <th>bathrooms</th>\n",
       "      <th>sqft_living</th>\n",
       "      <th>sqft_lot</th>\n",
       "      <th>floors</th>\n",
       "      <th>waterfront</th>\n",
       "      <th>view</th>\n",
       "      <th>condition</th>\n",
       "      <th>grade</th>\n",
       "      <th>sqft_above</th>\n",
       "      <th>sqft_basement</th>\n",
       "      <th>yr_built</th>\n",
       "      <th>yr_renovated</th>\n",
       "      <th>zipcode</th>\n",
       "      <th>lat</th>\n",
       "      <th>long</th>\n",
       "      <th>sqft_living15</th>\n",
       "      <th>sqft_lot15</th>\n",
       "      <th>year</th>\n",
       "      <th>month</th>\n",
       "      <th>day</th>\n",
       "      <th>year_week</th>\n",
       "      <th>week</th>\n",
       "      <th>season</th>\n",
       "      <th>city</th>\n",
       "      <th>state</th>\n",
       "      <th>basement</th>\n",
       "      <th>m2</th>\n",
       "      <th>price_m2</th>\n",
       "      <th>semester</th>\n",
       "    </tr>\n",
       "  </thead>\n",
       "  <tbody>\n",
       "    <tr>\n",
       "      <th>0</th>\n",
       "      <td>0</td>\n",
       "      <td>7129300520</td>\n",
       "      <td>2014-10-13</td>\n",
       "      <td>221900.00</td>\n",
       "      <td>3</td>\n",
       "      <td>1.00</td>\n",
       "      <td>1180</td>\n",
       "      <td>5650</td>\n",
       "      <td>1.00</td>\n",
       "      <td>0</td>\n",
       "      <td>0</td>\n",
       "      <td>3</td>\n",
       "      <td>7</td>\n",
       "      <td>1180</td>\n",
       "      <td>0</td>\n",
       "      <td>1955</td>\n",
       "      <td>0</td>\n",
       "      <td>98178</td>\n",
       "      <td>47.51</td>\n",
       "      <td>-122.26</td>\n",
       "      <td>1340</td>\n",
       "      <td>5650</td>\n",
       "      <td>2014</td>\n",
       "      <td>10</td>\n",
       "      <td>13</td>\n",
       "      <td>2014-41</td>\n",
       "      <td>42</td>\n",
       "      <td>fall</td>\n",
       "      <td>Seattle</td>\n",
       "      <td>Washington</td>\n",
       "      <td>no</td>\n",
       "      <td>524.90</td>\n",
       "      <td>422.75</td>\n",
       "      <td>2</td>\n",
       "    </tr>\n",
       "    <tr>\n",
       "      <th>1</th>\n",
       "      <td>1</td>\n",
       "      <td>6414100192</td>\n",
       "      <td>2014-12-09</td>\n",
       "      <td>538000.00</td>\n",
       "      <td>3</td>\n",
       "      <td>2.25</td>\n",
       "      <td>2570</td>\n",
       "      <td>7242</td>\n",
       "      <td>2.00</td>\n",
       "      <td>0</td>\n",
       "      <td>0</td>\n",
       "      <td>3</td>\n",
       "      <td>7</td>\n",
       "      <td>2170</td>\n",
       "      <td>400</td>\n",
       "      <td>1951</td>\n",
       "      <td>1991</td>\n",
       "      <td>98125</td>\n",
       "      <td>47.72</td>\n",
       "      <td>-122.32</td>\n",
       "      <td>1690</td>\n",
       "      <td>7639</td>\n",
       "      <td>2014</td>\n",
       "      <td>12</td>\n",
       "      <td>9</td>\n",
       "      <td>2014-49</td>\n",
       "      <td>50</td>\n",
       "      <td>winter</td>\n",
       "      <td>Seattle</td>\n",
       "      <td>Washington</td>\n",
       "      <td>yes</td>\n",
       "      <td>672.80</td>\n",
       "      <td>799.64</td>\n",
       "      <td>2</td>\n",
       "    </tr>\n",
       "    <tr>\n",
       "      <th>2</th>\n",
       "      <td>2</td>\n",
       "      <td>5631500400</td>\n",
       "      <td>2015-02-25</td>\n",
       "      <td>180000.00</td>\n",
       "      <td>2</td>\n",
       "      <td>1.00</td>\n",
       "      <td>770</td>\n",
       "      <td>10000</td>\n",
       "      <td>1.00</td>\n",
       "      <td>0</td>\n",
       "      <td>0</td>\n",
       "      <td>3</td>\n",
       "      <td>6</td>\n",
       "      <td>770</td>\n",
       "      <td>0</td>\n",
       "      <td>1933</td>\n",
       "      <td>0</td>\n",
       "      <td>98028</td>\n",
       "      <td>47.74</td>\n",
       "      <td>-122.23</td>\n",
       "      <td>2720</td>\n",
       "      <td>8062</td>\n",
       "      <td>2015</td>\n",
       "      <td>2</td>\n",
       "      <td>25</td>\n",
       "      <td>2015-08</td>\n",
       "      <td>9</td>\n",
       "      <td>winter</td>\n",
       "      <td>NaN</td>\n",
       "      <td>Washington</td>\n",
       "      <td>no</td>\n",
       "      <td>929.03</td>\n",
       "      <td>193.75</td>\n",
       "      <td>1</td>\n",
       "    </tr>\n",
       "    <tr>\n",
       "      <th>3</th>\n",
       "      <td>3</td>\n",
       "      <td>2487200875</td>\n",
       "      <td>2014-12-09</td>\n",
       "      <td>604000.00</td>\n",
       "      <td>4</td>\n",
       "      <td>3.00</td>\n",
       "      <td>1960</td>\n",
       "      <td>5000</td>\n",
       "      <td>1.00</td>\n",
       "      <td>0</td>\n",
       "      <td>0</td>\n",
       "      <td>5</td>\n",
       "      <td>7</td>\n",
       "      <td>1050</td>\n",
       "      <td>910</td>\n",
       "      <td>1965</td>\n",
       "      <td>0</td>\n",
       "      <td>98136</td>\n",
       "      <td>47.52</td>\n",
       "      <td>-122.39</td>\n",
       "      <td>1360</td>\n",
       "      <td>5000</td>\n",
       "      <td>2014</td>\n",
       "      <td>12</td>\n",
       "      <td>9</td>\n",
       "      <td>2014-49</td>\n",
       "      <td>50</td>\n",
       "      <td>winter</td>\n",
       "      <td>Seattle</td>\n",
       "      <td>Washington</td>\n",
       "      <td>yes</td>\n",
       "      <td>464.52</td>\n",
       "      <td>1300.28</td>\n",
       "      <td>2</td>\n",
       "    </tr>\n",
       "    <tr>\n",
       "      <th>4</th>\n",
       "      <td>4</td>\n",
       "      <td>1954400510</td>\n",
       "      <td>2015-02-18</td>\n",
       "      <td>510000.00</td>\n",
       "      <td>3</td>\n",
       "      <td>2.00</td>\n",
       "      <td>1680</td>\n",
       "      <td>8080</td>\n",
       "      <td>1.00</td>\n",
       "      <td>0</td>\n",
       "      <td>0</td>\n",
       "      <td>3</td>\n",
       "      <td>8</td>\n",
       "      <td>1680</td>\n",
       "      <td>0</td>\n",
       "      <td>1987</td>\n",
       "      <td>0</td>\n",
       "      <td>98074</td>\n",
       "      <td>47.62</td>\n",
       "      <td>-122.05</td>\n",
       "      <td>1800</td>\n",
       "      <td>7503</td>\n",
       "      <td>2015</td>\n",
       "      <td>2</td>\n",
       "      <td>18</td>\n",
       "      <td>2015-07</td>\n",
       "      <td>8</td>\n",
       "      <td>winter</td>\n",
       "      <td>NaN</td>\n",
       "      <td>Washington</td>\n",
       "      <td>no</td>\n",
       "      <td>750.66</td>\n",
       "      <td>679.41</td>\n",
       "      <td>1</td>\n",
       "    </tr>\n",
       "  </tbody>\n",
       "</table>\n",
       "</div>"
      ],
      "text/plain": [
       "   Unnamed: 0          id        date     price  bedrooms  bathrooms  sqft_living  sqft_lot  floors  waterfront  view  condition  grade  sqft_above  sqft_basement  yr_built  yr_renovated  zipcode   lat    long  sqft_living15  sqft_lot15  year  month  day year_week  week  season     city       state basement     m2  price_m2  semester\n",
       "0           0  7129300520  2014-10-13 221900.00         3       1.00         1180      5650    1.00           0     0          3      7        1180              0      1955             0    98178 47.51 -122.26           1340        5650  2014     10   13   2014-41    42    fall  Seattle  Washington       no 524.90    422.75         2\n",
       "1           1  6414100192  2014-12-09 538000.00         3       2.25         2570      7242    2.00           0     0          3      7        2170            400      1951          1991    98125 47.72 -122.32           1690        7639  2014     12    9   2014-49    50  winter  Seattle  Washington      yes 672.80    799.64         2\n",
       "2           2  5631500400  2015-02-25 180000.00         2       1.00          770     10000    1.00           0     0          3      6         770              0      1933             0    98028 47.74 -122.23           2720        8062  2015      2   25   2015-08     9  winter      NaN  Washington       no 929.03    193.75         1\n",
       "3           3  2487200875  2014-12-09 604000.00         4       3.00         1960      5000    1.00           0     0          5      7        1050            910      1965             0    98136 47.52 -122.39           1360        5000  2014     12    9   2014-49    50  winter  Seattle  Washington      yes 464.52   1300.28         2\n",
       "4           4  1954400510  2015-02-18 510000.00         3       2.00         1680      8080    1.00           0     0          3      8        1680              0      1987             0    98074 47.62 -122.05           1800        7503  2015      2   18   2015-07     8  winter      NaN  Washington       no 750.66    679.41         1"
      ]
     },
     "execution_count": 107,
     "metadata": {},
     "output_type": "execute_result"
    }
   ],
   "source": [
    "data.head()"
   ]
  },
  {
   "cell_type": "code",
   "execution_count": null,
   "id": "04425ca7",
   "metadata": {},
   "outputs": [],
   "source": []
  }
 ],
 "metadata": {
  "kernelspec": {
   "display_name": "Python 3 (ipykernel)",
   "language": "python",
   "name": "python3"
  },
  "language_info": {
   "codemirror_mode": {
    "name": "ipython",
    "version": 3
   },
   "file_extension": ".py",
   "mimetype": "text/x-python",
   "name": "python",
   "nbconvert_exporter": "python",
   "pygments_lexer": "ipython3",
   "version": "3.8.10"
  }
 },
 "nbformat": 4,
 "nbformat_minor": 5
}
